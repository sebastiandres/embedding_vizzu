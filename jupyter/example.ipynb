{
 "cells": [
  {
   "cell_type": "markdown",
   "id": "6bbbd632",
   "metadata": {
    "slideshow": {
     "slide_type": "slide"
    }
   },
   "source": [
    "## Title of my Presentation\n",
    "Some text"
   ]
  },
  {
   "cell_type": "code",
   "execution_count": 7,
   "id": "61f03bb7",
   "metadata": {},
   "outputs": [
    {
     "name": "stdout",
     "output_type": "stream",
     "text": [
      "some code\n"
     ]
    }
   ],
   "source": [
    "print(\"some code\")"
   ]
  },
  {
   "cell_type": "markdown",
   "id": "39fd164e",
   "metadata": {
    "slideshow": {
     "slide_type": "skip"
    }
   },
   "source": [
    "The magic is on the next slide! This one is skipped."
   ]
  },
  {
   "cell_type": "code",
   "execution_count": 13,
   "id": "0c18572c",
   "metadata": {
    "slideshow": {
     "slide_type": "slide"
    }
   },
   "outputs": [
    {
     "data": {
      "text/html": [
       "<iframe allow=\"fullscreen\" width=\"100%\" height=\"700\" src=\"https://app.vizzu.io/share/story/66a27508fc673fda605c33da-Sample-2-Music\"></iframe>\n"
      ],
      "text/plain": [
       "<IPython.core.display.HTML object>"
      ]
     },
     "metadata": {},
     "output_type": "display_data"
    }
   ],
   "source": [
    "%%html\n",
    "<iframe allow=\"fullscreen\" width=\"100%\" height=\"700\" src=\"https://app.vizzu.io/share/story/66a27508fc673fda605c33da-Sample-2-Music\"></iframe>"
   ]
  },
  {
   "cell_type": "markdown",
   "id": "438cec73",
   "metadata": {
    "slideshow": {
     "slide_type": "slide"
    }
   },
   "source": [
    "# The end"
   ]
  }
 ],
 "metadata": {
  "celltoolbar": "Slideshow",
  "kernelspec": {
   "display_name": "Python 3 (ipykernel)",
   "language": "python",
   "name": "python3"
  },
  "language_info": {
   "codemirror_mode": {
    "name": "ipython",
    "version": 3
   },
   "file_extension": ".py",
   "mimetype": "text/x-python",
   "name": "python",
   "nbconvert_exporter": "python",
   "pygments_lexer": "ipython3",
   "version": "3.11.1"
  }
 },
 "nbformat": 4,
 "nbformat_minor": 5
}
